{
 "cells": [
  {
   "cell_type": "code",
   "execution_count": 1,
   "metadata": {
    "pycharm": {
     "name": "#%%\n"
    }
   },
   "outputs": [],
   "source": [
    "import investpy"
   ]
  },
  {
   "cell_type": "code",
   "execution_count": 2,
   "outputs": [
    {
     "data": {
      "text/plain": "            Open  High   Low  Close     Volume Currency\nDate                                                   \n2010-01-04  7.62  7.66  7.58   7.64  493728704      USD\n2010-01-05  7.66  7.70  7.62   7.66  601904640      USD\n2010-01-06  7.66  7.69  7.53   7.53  552158912      USD\n2010-01-07  7.56  7.57  7.47   7.52  477129760      USD\n2010-01-08  7.51  7.57  7.47   7.57  447876768      USD",
      "text/html": "<div>\n<style scoped>\n    .dataframe tbody tr th:only-of-type {\n        vertical-align: middle;\n    }\n\n    .dataframe tbody tr th {\n        vertical-align: top;\n    }\n\n    .dataframe thead th {\n        text-align: right;\n    }\n</style>\n<table border=\"1\" class=\"dataframe\">\n  <thead>\n    <tr style=\"text-align: right;\">\n      <th></th>\n      <th>Open</th>\n      <th>High</th>\n      <th>Low</th>\n      <th>Close</th>\n      <th>Volume</th>\n      <th>Currency</th>\n    </tr>\n    <tr>\n      <th>Date</th>\n      <th></th>\n      <th></th>\n      <th></th>\n      <th></th>\n      <th></th>\n      <th></th>\n    </tr>\n  </thead>\n  <tbody>\n    <tr>\n      <th>2010-01-04</th>\n      <td>7.62</td>\n      <td>7.66</td>\n      <td>7.58</td>\n      <td>7.64</td>\n      <td>493728704</td>\n      <td>USD</td>\n    </tr>\n    <tr>\n      <th>2010-01-05</th>\n      <td>7.66</td>\n      <td>7.70</td>\n      <td>7.62</td>\n      <td>7.66</td>\n      <td>601904640</td>\n      <td>USD</td>\n    </tr>\n    <tr>\n      <th>2010-01-06</th>\n      <td>7.66</td>\n      <td>7.69</td>\n      <td>7.53</td>\n      <td>7.53</td>\n      <td>552158912</td>\n      <td>USD</td>\n    </tr>\n    <tr>\n      <th>2010-01-07</th>\n      <td>7.56</td>\n      <td>7.57</td>\n      <td>7.47</td>\n      <td>7.52</td>\n      <td>477129760</td>\n      <td>USD</td>\n    </tr>\n    <tr>\n      <th>2010-01-08</th>\n      <td>7.51</td>\n      <td>7.57</td>\n      <td>7.47</td>\n      <td>7.57</td>\n      <td>447876768</td>\n      <td>USD</td>\n    </tr>\n  </tbody>\n</table>\n</div>"
     },
     "execution_count": 2,
     "metadata": {},
     "output_type": "execute_result"
    }
   ],
   "source": [
    "df = investpy.get_stock_historical_data(\n",
    "    stock='AAPL',\n",
    "    country='United States',\n",
    "    from_date='01/01/2010',\n",
    "    to_date='01/01/2020'\n",
    ")\n",
    "df.head()"
   ],
   "metadata": {
    "collapsed": false,
    "pycharm": {
     "name": "#%%\n"
    }
   }
  },
  {
   "cell_type": "code",
   "execution_count": null,
   "outputs": [],
   "source": [],
   "metadata": {
    "collapsed": false,
    "pycharm": {
     "name": "#%%\n"
    }
   }
  }
 ],
 "metadata": {
  "kernelspec": {
   "display_name": "Python 3 (ipykernel)",
   "language": "python",
   "name": "python3"
  },
  "language_info": {
   "codemirror_mode": {
    "name": "ipython",
    "version": 3
   },
   "file_extension": ".py",
   "mimetype": "text/x-python",
   "name": "python",
   "nbconvert_exporter": "python",
   "pygments_lexer": "ipython3",
   "version": "3.8.5"
  }
 },
 "nbformat": 4,
 "nbformat_minor": 1
}